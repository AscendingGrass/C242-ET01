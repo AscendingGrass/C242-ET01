{
 "cells": [
  {
   "cell_type": "code",
   "execution_count": 2,
   "metadata": {},
   "outputs": [],
   "source": [
    "# from src.models.unsloth_model import UnslothModel, UnslothChatSession, UnslothConfig\n",
    "from src.models.ollama_model import OllamaModel, OllamaChatSession, OllamaConfig"
   ]
  },
  {
   "cell_type": "markdown",
   "metadata": {},
   "source": [
    "# Test Unsloth Model"
   ]
  },
  {
   "cell_type": "code",
   "execution_count": 4,
   "metadata": {},
   "outputs": [
    {
     "name": "stdout",
     "output_type": "stream",
     "text": [
      "==((====))==  Unsloth 2024.11.7: Fast Gemma patching. Transformers = 4.46.2.\n",
      "   \\\\   /|    GPU: NVIDIA GeForce GTX 1650 with Max-Q Design. Max memory: 3.812 GB. Platform = Linux.\n",
      "O^O/ \\_/ \\    Pytorch: 2.5.1+cu124. CUDA = 7.5. CUDA Toolkit = 12.4.\n",
      "\\        /    Bfloat16 = FALSE. FA [Xformers = 0.0.28.post3. FA2 = False]\n",
      " \"-____-\"     Free Apache license: http://github.com/unslothai/unsloth\n",
      "Unsloth: Fast downloading is enabled - ignore downloading bars which are red colored!\n"
     ]
    },
    {
     "name": "stderr",
     "output_type": "stream",
     "text": [
      "`config.hidden_act` is ignored, you should use `config.hidden_activation` instead.\n",
      "Gemma's activation function will be set to `gelu_pytorch_tanh`. Please, use\n",
      "`config.hidden_activation` if you want to override this behaviour.\n",
      "See https://github.com/huggingface/transformers/pull/29402 for more details.\n",
      "<string>:204: SyntaxWarning: invalid escape sequence '\\ '\n",
      "<string>:205: SyntaxWarning: invalid escape sequence '\\_'\n",
      "<string>:206: SyntaxWarning: invalid escape sequence '\\ '\n",
      "<string>:204: SyntaxWarning: invalid escape sequence '\\ '\n",
      "<string>:205: SyntaxWarning: invalid escape sequence '\\_'\n",
      "<string>:206: SyntaxWarning: invalid escape sequence '\\ '\n"
     ]
    }
   ],
   "source": [
    "model = UnslothModel()"
   ]
  },
  {
   "cell_type": "code",
   "execution_count": 6,
   "metadata": {},
   "outputs": [
    {
     "data": {
      "text/plain": [
       "device(type='cuda', index=0)"
      ]
     },
     "execution_count": 6,
     "metadata": {},
     "output_type": "execute_result"
    }
   ],
   "source": [
    "model.model.device"
   ]
  },
  {
   "cell_type": "code",
   "execution_count": 9,
   "metadata": {},
   "outputs": [
    {
     "data": {
      "text/plain": [
       "tensor([[   2,  106, 1645,  108,  544, 1104,  107,  108]], device='cuda:0')"
      ]
     },
     "execution_count": 9,
     "metadata": {},
     "output_type": "execute_result"
    }
   ],
   "source": [
    "model.tokenizer.apply_chat_template([dict(role='user', content='hi there')], return_tensors='pt').to(model.model.device)"
   ]
  },
  {
   "cell_type": "code",
   "execution_count": 5,
   "metadata": {},
   "outputs": [
    {
     "name": "stderr",
     "output_type": "stream",
     "text": [
      "The attention mask is not set and cannot be inferred from input because pad token is same as eos token. As a consequence, you may observe unexpected behavior. Please pass your input's `attention_mask` to obtain reliable results.\n"
     ]
    },
    {
     "data": {
      "text/plain": [
       "\"I am a digital storyteller, a creative thinker, and a lifelong learner. My passions lie in weaving narratives through words, crafting imaginative worlds through code, and connecting with others through the magic of storytelling. I am a perpetual student, always seeking new ways to express myself and push the boundaries of what is possible. My greatest joy is to see my stories come to life, whether it's through a captivating novel, a captivating script, or a mesmerizing piece of art.\""
      ]
     },
     "execution_count": 5,
     "metadata": {},
     "output_type": "execute_result"
    }
   ],
   "source": [
    "model.generate(\"Write a thing about yourself:\")"
   ]
  },
  {
   "cell_type": "code",
   "execution_count": 3,
   "metadata": {},
   "outputs": [],
   "source": [
    "session = model.get_chat_session()"
   ]
  },
  {
   "cell_type": "code",
   "execution_count": 4,
   "metadata": {},
   "outputs": [
    {
     "name": "stderr",
     "output_type": "stream",
     "text": [
      "The attention mask is not set and cannot be inferred from input because pad token is same as eos token. As a consequence, you may observe unexpected behavior. Please pass your input's `attention_mask` to obtain reliable results.\n"
     ]
    },
    {
     "data": {
      "text/plain": [
       "\"Hi! 👋 It's great to hear from you. What can I do for you today? 😊\""
      ]
     },
     "execution_count": 4,
     "metadata": {},
     "output_type": "execute_result"
    }
   ],
   "source": [
    "session.chat(\"hi there\")"
   ]
  },
  {
   "cell_type": "code",
   "execution_count": 5,
   "metadata": {},
   "outputs": [
    {
     "data": {
      "text/plain": [
       "[{'role': 'user', 'content': 'hi there'},\n",
       " {'role': 'assistant',\n",
       "  'content': \"Hi! 👋 It's great to hear from you. What can I do for you today? 😊\"}]"
      ]
     },
     "execution_count": 5,
     "metadata": {},
     "output_type": "execute_result"
    }
   ],
   "source": [
    "session.get_history()"
   ]
  },
  {
   "cell_type": "code",
   "execution_count": 6,
   "metadata": {},
   "outputs": [
    {
     "data": {
      "text/plain": [
       "\"Sure, here's a simplified explanation of the theory of relativity:\\n\\n**The Theory of Relativity**\\n\\nThe theory of relativity was developed by Albert Einstein in the early 20th century. It is a fundamental theory in physics that describes space and time in a way that is different from the classical (non-relativistic) theory of physics.\\n\\n**Key Concepts:**\\n\\n* **Space and Time are Curved:** According to relativity, space and time are not flat, but rather they are curved. This means that objects moving in space will appear to be farther apart from each other than they would in a flat universe.\\n* **Time Dilation:** Time passes more slowly for objects moving at high speeds than for objects moving at low speeds. This is known as time dilation.\\n* **Length Contraction:** The length of an object moving at high speed will appear shorter than its length at rest. This is known as length contraction.\\n* **Mass-Energy Equivalence:** The energy and mass of an object are equivalent, meaning that they can be converted into each other.\\n\\n**Implications:**\\n\\n* **Black Holes:** Black holes are regions of spacetime where gravity is so strong that nothing, not even light, can escape.\\n* **Relativistic Waves:** Light waves, such as radio waves and X-rays, can travel through curved spacetime and bend around objects.\\n* **Special Relativity:** Special relativity deals with the relationship between space, time, and motion for objects moving at a constant speed.\\n* **General Relativity:** General relativity deals with the relationship between gravity and spacetime.\\n\\n**Key Figures:**\\n\\n* Albert Einstein\\n* Isaac Newton\\n* Louis de Broglie\\n\\n**Additional Notes:**\\n\\n* The theory of relativity is one of the most successful and well-supported theories in physics.\\n* It has led to many important discoveries, including the existence of black holes and the Big Bang.\\n* However, there is still some evidence that challenges the theory, such as the observation of gravitational waves.\\n\\nI hope this explanation is helpful. Please let me know if you have any other questions.\""
      ]
     },
     "execution_count": 6,
     "metadata": {},
     "output_type": "execute_result"
    }
   ],
   "source": [
    "session.chat(\"can you explain the theory of relativity?\")"
   ]
  },
  {
   "cell_type": "code",
   "execution_count": 7,
   "metadata": {},
   "outputs": [
    {
     "name": "stdout",
     "output_type": "stream",
     "text": [
      "Sure, here's a simplified explanation of the theory of relativity for a 5-year-old:\n",
      "\n",
      "Imagine that space and time are like a big trampoline. When you jump on the trampoline, it stretches out in front of you. This is kind of like how space and time are curved.\n",
      "\n",
      "When you're moving really fast, you're like jumping on a trampoline that's already stretched out. This means that you'll see things that are far away from you from where you're standing. And, like in the trampoline, things that are far away from you will also look smaller.\n",
      "\n",
      "The theory of relativity is all about how space and time work together. It's a way of understanding how things move in the universe, even when they're moving at high speeds.\n"
     ]
    }
   ],
   "source": [
    "print(session.chat(\"can you explain it like I'm 5?\"))"
   ]
  },
  {
   "cell_type": "code",
   "execution_count": 8,
   "metadata": {},
   "outputs": [
    {
     "data": {
      "text/plain": [
       "[{'role': 'user', 'content': 'hi there'},\n",
       " {'role': 'assistant',\n",
       "  'content': \"Hi! 👋 It's great to hear from you. What can I do for you today? 😊\"},\n",
       " {'role': 'user', 'content': 'can you explain the theory of relativity?'},\n",
       " {'role': 'assistant',\n",
       "  'content': \"Sure, here's a simplified explanation of the theory of relativity:\\n\\n**The Theory of Relativity**\\n\\nThe theory of relativity was developed by Albert Einstein in the early 20th century. It is a fundamental theory in physics that describes space and time in a way that is different from the classical (non-relativistic) theory of physics.\\n\\n**Key Concepts:**\\n\\n* **Space and Time are Curved:** According to relativity, space and time are not flat, but rather they are curved. This means that objects moving in space will appear to be farther apart from each other than they would in a flat universe.\\n* **Time Dilation:** Time passes more slowly for objects moving at high speeds than for objects moving at low speeds. This is known as time dilation.\\n* **Length Contraction:** The length of an object moving at high speed will appear shorter than its length at rest. This is known as length contraction.\\n* **Mass-Energy Equivalence:** The energy and mass of an object are equivalent, meaning that they can be converted into each other.\\n\\n**Implications:**\\n\\n* **Black Holes:** Black holes are regions of spacetime where gravity is so strong that nothing, not even light, can escape.\\n* **Relativistic Waves:** Light waves, such as radio waves and X-rays, can travel through curved spacetime and bend around objects.\\n* **Special Relativity:** Special relativity deals with the relationship between space, time, and motion for objects moving at a constant speed.\\n* **General Relativity:** General relativity deals with the relationship between gravity and spacetime.\\n\\n**Key Figures:**\\n\\n* Albert Einstein\\n* Isaac Newton\\n* Louis de Broglie\\n\\n**Additional Notes:**\\n\\n* The theory of relativity is one of the most successful and well-supported theories in physics.\\n* It has led to many important discoveries, including the existence of black holes and the Big Bang.\\n* However, there is still some evidence that challenges the theory, such as the observation of gravitational waves.\\n\\nI hope this explanation is helpful. Please let me know if you have any other questions.\"},\n",
       " {'role': 'user', 'content': \"can you explain it like I'm 5?\"},\n",
       " {'role': 'assistant',\n",
       "  'content': \"Sure, here's a simplified explanation of the theory of relativity for a 5-year-old:\\n\\nImagine that space and time are like a big trampoline. When you jump on the trampoline, it stretches out in front of you. This is kind of like how space and time are curved.\\n\\nWhen you're moving really fast, you're like jumping on a trampoline that's already stretched out. This means that you'll see things that are far away from you from where you're standing. And, like in the trampoline, things that are far away from you will also look smaller.\\n\\nThe theory of relativity is all about how space and time work together. It's a way of understanding how things move in the universe, even when they're moving at high speeds.\"}]"
      ]
     },
     "execution_count": 8,
     "metadata": {},
     "output_type": "execute_result"
    }
   ],
   "source": [
    "session.get_history()"
   ]
  },
  {
   "cell_type": "markdown",
   "metadata": {},
   "source": [
    "# Test Ollama Model"
   ]
  },
  {
   "cell_type": "code",
   "execution_count": 3,
   "metadata": {},
   "outputs": [],
   "source": [
    "ollama_config = OllamaConfig(\n",
    "    model_name='gemma:2b-instruct',\n",
    "    options=dict(\n",
    "        top_k=0\n",
    "    )\n",
    ")\n",
    "model = OllamaModel(model_config=ollama_config)"
   ]
  },
  {
   "cell_type": "code",
   "execution_count": 4,
   "metadata": {},
   "outputs": [
    {
     "data": {
      "text/plain": [
       "'I am a language model, designed to assist users with their writing tasks. My capabilities include:\\n\\n* **Text generation:** I can generate creative and original text in various formats, such as articles, stories, poems, and scripts.\\n* **Grammar and spelling correction:** I am well-versed in grammar and spelling rules, ensuring the accuracy and clarity of written content.\\n* **Terminology suggestion:** I can suggest relevant and context-specific terminology to enhance the readability and accuracy of writing.\\n* **Content research:** I can conduct thorough research on specific topics, gathering information and insights to support my writing.\\n\\nMy mission is to empower writers by providing efficient and insightful support throughout the writing process. I am constantly learning and evolving, aiming to enhance my capabilities and provide the best possible assistance.'"
      ]
     },
     "execution_count": 4,
     "metadata": {},
     "output_type": "execute_result"
    }
   ],
   "source": [
    "model.generate(\"Write a thing about yourself:\")"
   ]
  },
  {
   "cell_type": "code",
   "execution_count": 5,
   "metadata": {},
   "outputs": [],
   "source": [
    "session = model.get_chat_session()"
   ]
  },
  {
   "cell_type": "code",
   "execution_count": 6,
   "metadata": {},
   "outputs": [
    {
     "data": {
      "text/plain": [
       "\"Hello! 👋 It's nice to meet you. What would you like to talk about today? 😊\""
      ]
     },
     "execution_count": 6,
     "metadata": {},
     "output_type": "execute_result"
    }
   ],
   "source": [
    "session.chat(\"hi there\")"
   ]
  },
  {
   "cell_type": "code",
   "execution_count": 7,
   "metadata": {},
   "outputs": [
    {
     "data": {
      "text/plain": [
       "[{'role': 'user', 'content': 'hi there'},\n",
       " {'role': 'assistant',\n",
       "  'content': \"Hello! 👋 It's nice to meet you. What would you like to talk about today? 😊\"}]"
      ]
     },
     "execution_count": 7,
     "metadata": {},
     "output_type": "execute_result"
    }
   ],
   "source": [
    "session.get_history()"
   ]
  },
  {
   "cell_type": "code",
   "execution_count": 8,
   "metadata": {},
   "outputs": [
    {
     "data": {
      "text/plain": [
       "'**Theory of Relativity**\\n\\nThe theory of relativity is a set of theories that describes the behavior of physical objects and fields in motion, developed by Albert Einstein in his special and general theories of relativity.\\n\\n**Special Relativity:**\\n\\n* Relates the laws of physics as experienced by an observer in motion relative to an inertial reference frame.\\n* Postulates:\\n    * The laws of physics are the same for all observers in uniform motion.\\n    * The speed of light in a vacuum is constant for all observers.\\n* Consequences:\\n    * Time dilation and length contraction\\n    * Relative velocity\\n    * Mass-energy equivalence (E=mc²)\\n\\n**General Relativity:**\\n\\n* Describes the behavior of gravity and objects in the presence of mass and energy.\\n* Postulates:\\n    * Gravity is a curvature of spacetime caused by the presence of mass and energy.\\n    * The curvature of spacetime affects the propagation of light and other physical phenomena.\\n* Consequences:\\n    * Gravitational waves\\n    * Black holes and white dwarfs\\n    * Time dilation near massive objects\\n\\n**Key Concepts:**\\n\\n* **Relativity of space and time:** How space and time are interconnected in the presence of motion.\\n* **Proper time:** Time as measured by an observer in motion.\\n* **Proper length:** Length as measured by an observer in motion.\\n* **Mass-energy equivalence:** The relation between mass and energy.\\n\\n**Applications:**\\n\\n* Understanding the behavior of stars, planets, and galaxies\\n* Developing timekeeping devices\\n* Understanding the effects of black holes and other astronomical phenomena\\n* Exploring the potential existence of dark energy and dark matter\\n\\n**Additional Points:**\\n\\n* The theory of relativity is one of the most successful and widely tested theories in physics.\\n* It has far-reaching implications for our understanding of the universe.\\n* The theory is still actively researched and debated by physicists today.'"
      ]
     },
     "execution_count": 8,
     "metadata": {},
     "output_type": "execute_result"
    }
   ],
   "source": [
    "session.chat(\"can you explain the theory of relativity?\")"
   ]
  },
  {
   "cell_type": "code",
   "execution_count": 9,
   "metadata": {},
   "outputs": [
    {
     "name": "stdout",
     "output_type": "stream",
     "text": [
      "Imagine you and your friend are playing on a swing.\n",
      "\n",
      "* If you're swinging normally, the other person will see you going up and down. But if you're wearing a rocket suit, it will look like your friend is swinging sideways! It's because of the different speeds of your friend and you.\n",
      "* The same thing happens in space! When an object is moving fast, it bends the path of other objects around it.\n",
      "\n",
      "That's the theory of relativity! It tells us that things that move fast look different to someone who is not moving.\n"
     ]
    }
   ],
   "source": [
    "print(session.chat(\"can you explain it like I'm 5?\"))"
   ]
  },
  {
   "cell_type": "code",
   "execution_count": 11,
   "metadata": {},
   "outputs": [
    {
     "data": {
      "text/plain": [
       "[{'role': 'user', 'content': 'hi there'},\n",
       " {'role': 'assistant',\n",
       "  'content': \"Hello! 👋 It's nice to meet you. What would you like to talk about today? 😊\"},\n",
       " {'role': 'user', 'content': 'can you explain the theory of relativity?'},\n",
       " {'role': 'assistant',\n",
       "  'content': '**Theory of Relativity**\\n\\nThe theory of relativity is a set of theories that describes the behavior of physical objects and fields in motion, developed by Albert Einstein in his special and general theories of relativity.\\n\\n**Special Relativity:**\\n\\n* Relates the laws of physics as experienced by an observer in motion relative to an inertial reference frame.\\n* Postulates:\\n    * The laws of physics are the same for all observers in uniform motion.\\n    * The speed of light in a vacuum is constant for all observers.\\n* Consequences:\\n    * Time dilation and length contraction\\n    * Relative velocity\\n    * Mass-energy equivalence (E=mc²)\\n\\n**General Relativity:**\\n\\n* Describes the behavior of gravity and objects in the presence of mass and energy.\\n* Postulates:\\n    * Gravity is a curvature of spacetime caused by the presence of mass and energy.\\n    * The curvature of spacetime affects the propagation of light and other physical phenomena.\\n* Consequences:\\n    * Gravitational waves\\n    * Black holes and white dwarfs\\n    * Time dilation near massive objects\\n\\n**Key Concepts:**\\n\\n* **Relativity of space and time:** How space and time are interconnected in the presence of motion.\\n* **Proper time:** Time as measured by an observer in motion.\\n* **Proper length:** Length as measured by an observer in motion.\\n* **Mass-energy equivalence:** The relation between mass and energy.\\n\\n**Applications:**\\n\\n* Understanding the behavior of stars, planets, and galaxies\\n* Developing timekeeping devices\\n* Understanding the effects of black holes and other astronomical phenomena\\n* Exploring the potential existence of dark energy and dark matter\\n\\n**Additional Points:**\\n\\n* The theory of relativity is one of the most successful and widely tested theories in physics.\\n* It has far-reaching implications for our understanding of the universe.\\n* The theory is still actively researched and debated by physicists today.'},\n",
       " {'role': 'user', 'content': \"can you explain it like I'm 5?\"},\n",
       " {'role': 'assistant',\n",
       "  'content': \"Imagine you and your friend are playing on a swing.\\n\\n* If you're swinging normally, the other person will see you going up and down. But if you're wearing a rocket suit, it will look like your friend is swinging sideways! It's because of the different speeds of your friend and you.\\n* The same thing happens in space! When an object is moving fast, it bends the path of other objects around it.\\n\\nThat's the theory of relativity! It tells us that things that move fast look different to someone who is not moving.\"}]"
      ]
     },
     "execution_count": 11,
     "metadata": {},
     "output_type": "execute_result"
    }
   ],
   "source": [
    "session.get_history()"
   ]
  }
 ],
 "metadata": {
  "kernelspec": {
   "display_name": ".venv",
   "language": "python",
   "name": "python3"
  },
  "language_info": {
   "codemirror_mode": {
    "name": "ipython",
    "version": 3
   },
   "file_extension": ".py",
   "mimetype": "text/x-python",
   "name": "python",
   "nbconvert_exporter": "python",
   "pygments_lexer": "ipython3",
   "version": "3.12.4"
  }
 },
 "nbformat": 4,
 "nbformat_minor": 2
}
